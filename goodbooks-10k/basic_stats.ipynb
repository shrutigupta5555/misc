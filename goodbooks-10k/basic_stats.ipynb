{
 "metadata": {
  "name": "",
  "signature": "sha256:5a9d6c29c10dd08d4846ea8519758c6c1106a06da272344eca889c20a86d027e"
 },
 "nbformat": 3,
 "nbformat_minor": 0,
 "worksheets": [
  {
   "cells": [
    {
     "cell_type": "code",
     "collapsed": false,
     "input": [
      "%matplotlib inline\n",
      "\n",
      "import pandas as pd\n",
      "\n",
      "r = pd.read_csv( '../input/ratings.csv' )\n",
      "b = pd.read_csv( '../input/books.csv' )"
     ],
     "language": "python",
     "metadata": {},
     "outputs": [],
     "prompt_number": 26
    },
    {
     "cell_type": "heading",
     "level": 3,
     "metadata": {},
     "source": [
      "Ratings"
     ]
    },
    {
     "cell_type": "code",
     "collapsed": false,
     "input": [
      "r.head()"
     ],
     "language": "python",
     "metadata": {},
     "outputs": [
      {
       "html": [
        "<div style=\"max-width:1500px;overflow:auto;\">\n",
        "<table border=\"1\" class=\"dataframe\">\n",
        "  <thead>\n",
        "    <tr style=\"text-align: right;\">\n",
        "      <th></th>\n",
        "      <th>book_id</th>\n",
        "      <th>user_id</th>\n",
        "      <th>rating</th>\n",
        "    </tr>\n",
        "  </thead>\n",
        "  <tbody>\n",
        "    <tr>\n",
        "      <th>0</th>\n",
        "      <td>1</td>\n",
        "      <td>314</td>\n",
        "      <td>5</td>\n",
        "    </tr>\n",
        "    <tr>\n",
        "      <th>1</th>\n",
        "      <td>1</td>\n",
        "      <td>439</td>\n",
        "      <td>3</td>\n",
        "    </tr>\n",
        "    <tr>\n",
        "      <th>2</th>\n",
        "      <td>1</td>\n",
        "      <td>588</td>\n",
        "      <td>5</td>\n",
        "    </tr>\n",
        "    <tr>\n",
        "      <th>3</th>\n",
        "      <td>1</td>\n",
        "      <td>1169</td>\n",
        "      <td>4</td>\n",
        "    </tr>\n",
        "    <tr>\n",
        "      <th>4</th>\n",
        "      <td>1</td>\n",
        "      <td>1185</td>\n",
        "      <td>4</td>\n",
        "    </tr>\n",
        "  </tbody>\n",
        "</table>\n",
        "</div>"
       ],
       "metadata": {},
       "output_type": "pyout",
       "prompt_number": 19,
       "text": [
        "   book_id  user_id  rating\n",
        "0        1      314       5\n",
        "1        1      439       3\n",
        "2        1      588       5\n",
        "3        1     1169       4\n",
        "4        1     1185       4"
       ]
      }
     ],
     "prompt_number": 19
    },
    {
     "cell_type": "markdown",
     "metadata": {},
     "source": [
      "Ratings are sorted by `book_id` and `user_id`."
     ]
    },
    {
     "cell_type": "code",
     "collapsed": false,
     "input": [
      "len(r)"
     ],
     "language": "python",
     "metadata": {},
     "outputs": [
      {
       "metadata": {},
       "output_type": "pyout",
       "prompt_number": 2,
       "text": [
        "981756"
       ]
      }
     ],
     "prompt_number": 2
    },
    {
     "cell_type": "code",
     "collapsed": false,
     "input": [
      "r.rating.hist( bins = 5 )"
     ],
     "language": "python",
     "metadata": {},
     "outputs": [
      {
       "metadata": {},
       "output_type": "pyout",
       "prompt_number": 27,
       "text": [
        "<matplotlib.axes._subplots.AxesSubplot at 0x7f7f8c8c6c10>"
       ]
      },
      {
       "metadata": {},
       "output_type": "display_data",
       "png": "[encoded data removed]",
       "text": [
        "<matplotlib.figure.Figure at 0x7f7f8665b410>"
       ]
      }
     ],
     "prompt_number": 27
    },
    {
     "cell_type": "markdown",
     "metadata": {},
     "source": [
      "It appears that 4 is the most popular rating. There are relatively few ones and twos."
     ]
    },
    {
     "cell_type": "heading",
     "level": 3,
     "metadata": {},
     "source": [
      "Books"
     ]
    },
    {
     "cell_type": "code",
     "collapsed": false,
     "input": [
      "b.head()"
     ],
     "language": "python",
     "metadata": {},
     "outputs": [
      {
       "html": [
        "<div style=\"max-width:1500px;overflow:auto;\">\n",
        "<table border=\"1\" class=\"dataframe\">\n",
        "  <thead>\n",
        "    <tr style=\"text-align: right;\">\n",
        "      <th></th>\n",
        "      <th>book_id</th>\n",
        "      <th>goodreads_title</th>\n",
        "      <th>goodreads_book_id</th>\n",
        "      <th>goodreads_work_id</th>\n",
        "    </tr>\n",
        "  </thead>\n",
        "  <tbody>\n",
        "    <tr>\n",
        "      <th>0</th>\n",
        "      <td>1</td>\n",
        "      <td>The Hunger Games (The Hunger Games, #1)</td>\n",
        "      <td>2767052</td>\n",
        "      <td>2792775</td>\n",
        "    </tr>\n",
        "    <tr>\n",
        "      <th>1</th>\n",
        "      <td>2</td>\n",
        "      <td>Harry Potter and the Sorcerer's Stone (Harry P...</td>\n",
        "      <td>3</td>\n",
        "      <td>4640799</td>\n",
        "    </tr>\n",
        "    <tr>\n",
        "      <th>2</th>\n",
        "      <td>3</td>\n",
        "      <td>Twilight (Twilight, #1)</td>\n",
        "      <td>41865</td>\n",
        "      <td>3212258</td>\n",
        "    </tr>\n",
        "    <tr>\n",
        "      <th>3</th>\n",
        "      <td>4</td>\n",
        "      <td>To Kill a Mockingbird (To Kill a Mockingbird #1)</td>\n",
        "      <td>2657</td>\n",
        "      <td>3275794</td>\n",
        "    </tr>\n",
        "    <tr>\n",
        "      <th>4</th>\n",
        "      <td>5</td>\n",
        "      <td>The Great Gatsby</td>\n",
        "      <td>4671</td>\n",
        "      <td>245494</td>\n",
        "    </tr>\n",
        "  </tbody>\n",
        "</table>\n",
        "</div>"
       ],
       "metadata": {},
       "output_type": "pyout",
       "prompt_number": 4,
       "text": [
        "   book_id                                    goodreads_title  \\\n",
        "0        1            The Hunger Games (The Hunger Games, #1)   \n",
        "1        2  Harry Potter and the Sorcerer's Stone (Harry P...   \n",
        "2        3                            Twilight (Twilight, #1)   \n",
        "3        4   To Kill a Mockingbird (To Kill a Mockingbird #1)   \n",
        "4        5                                   The Great Gatsby   \n",
        "\n",
        "   goodreads_book_id  goodreads_work_id  \n",
        "0            2767052            2792775  \n",
        "1                  3            4640799  \n",
        "2              41865            3212258  \n",
        "3               2657            3275794  \n",
        "4               4671             245494  "
       ]
      }
     ],
     "prompt_number": 4
    },
    {
     "cell_type": "markdown",
     "metadata": {},
     "source": [
      "Books are sorted by their popularity, as measured by number of ratings (overall, not in this dataset)."
     ]
    },
    {
     "cell_type": "code",
     "collapsed": false,
     "input": [
      "len(b)"
     ],
     "language": "python",
     "metadata": {},
     "outputs": [
      {
       "metadata": {},
       "output_type": "pyout",
       "prompt_number": 5,
       "text": [
        "10000"
       ]
      }
     ],
     "prompt_number": 5
    },
    {
     "cell_type": "heading",
     "level": 3,
     "metadata": {},
     "source": [
      "User and book IDs"
     ]
    },
    {
     "cell_type": "code",
     "collapsed": false,
     "input": [
      "len(r.user_id.unique())"
     ],
     "language": "python",
     "metadata": {},
     "outputs": [
      {
       "metadata": {},
       "output_type": "pyout",
       "prompt_number": 7,
       "text": [
        "53424"
       ]
      }
     ],
     "prompt_number": 7
    },
    {
     "cell_type": "code",
     "collapsed": false,
     "input": [
      "r.user_id.max()"
     ],
     "language": "python",
     "metadata": {},
     "outputs": [
      {
       "metadata": {},
       "output_type": "pyout",
       "prompt_number": 8,
       "text": [
        "53424"
       ]
      }
     ],
     "prompt_number": 8
    },
    {
     "cell_type": "code",
     "collapsed": false,
     "input": [
      "len(r.book_id.unique())"
     ],
     "language": "python",
     "metadata": {},
     "outputs": [
      {
       "metadata": {},
       "output_type": "pyout",
       "prompt_number": 9,
       "text": [
        "10000"
       ]
      }
     ],
     "prompt_number": 9
    },
    {
     "cell_type": "code",
     "collapsed": false,
     "input": [
      "r.book_id.max()"
     ],
     "language": "python",
     "metadata": {},
     "outputs": [
      {
       "metadata": {},
       "output_type": "pyout",
       "prompt_number": 10,
       "text": [
        "10000"
       ]
      }
     ],
     "prompt_number": 10
    },
    {
     "cell_type": "heading",
     "level": 3,
     "metadata": {},
     "source": [
      "Reviews per book"
     ]
    },
    {
     "cell_type": "markdown",
     "metadata": {},
     "source": [
      "Most books have 100 reviews, but some have as few as eight."
     ]
    },
    {
     "cell_type": "code",
     "collapsed": false,
     "input": [
      "reviews_per_book = r.groupby( 'book_id' ).book_id.apply( lambda x: len( x ))\n",
      "reviews_per_book.describe()"
     ],
     "language": "python",
     "metadata": {},
     "outputs": [
      {
       "metadata": {},
       "output_type": "pyout",
       "prompt_number": 11,
       "text": [
        "count    10000.000000\n",
        "mean        98.175600\n",
        "std          5.690167\n",
        "min          8.000000\n",
        "25%         99.000000\n",
        "50%        100.000000\n",
        "75%        100.000000\n",
        "max        100.000000\n",
        "Name: book_id, dtype: float64"
       ]
      }
     ],
     "prompt_number": 11
    },
    {
     "cell_type": "code",
     "collapsed": false,
     "input": [
      "reviews_per_book.sort_values().head( 10 )"
     ],
     "language": "python",
     "metadata": {},
     "outputs": [
      {
       "metadata": {},
       "output_type": "pyout",
       "prompt_number": 23,
       "text": [
        "book_id\n",
        "7803     8\n",
        "9345    11\n",
        "9486    24\n",
        "1935    34\n",
        "9315    36\n",
        "9553    41\n",
        "8181    44\n",
        "9260    46\n",
        "9479    47\n",
        "9705    48\n",
        "Name: book_id, dtype: int64"
       ]
      }
     ],
     "prompt_number": 23
    },
    {
     "cell_type": "heading",
     "level": 3,
     "metadata": {},
     "source": [
      "Reviews per user"
     ]
    },
    {
     "cell_type": "markdown",
     "metadata": {},
     "source": [
      "All users have at least two reviews."
     ]
    },
    {
     "cell_type": "code",
     "collapsed": false,
     "input": [
      "reviews_per_user = r.groupby( 'user_id' ).user_id.apply( lambda x: len( x ))\n",
      "reviews_per_user.describe()"
     ],
     "language": "python",
     "metadata": {},
     "outputs": [
      {
       "metadata": {},
       "output_type": "pyout",
       "prompt_number": 13,
       "text": [
        "count    53424.000000\n",
        "mean        18.376685\n",
        "std         26.268690\n",
        "min          2.000000\n",
        "25%          3.000000\n",
        "50%          8.000000\n",
        "75%         22.000000\n",
        "max        200.000000\n",
        "Name: user_id, dtype: float64"
       ]
      }
     ],
     "prompt_number": 13
    },
    {
     "cell_type": "code",
     "collapsed": false,
     "input": [
      "reviews_per_user.sort_values( ascending = False ).head( 10 )"
     ],
     "language": "python",
     "metadata": {},
     "outputs": [
      {
       "metadata": {},
       "output_type": "pyout",
       "prompt_number": 24,
       "text": [
        "user_id\n",
        "12874    200\n",
        "30944    200\n",
        "52036    199\n",
        "12381    199\n",
        "28158    199\n",
        "45554    197\n",
        "6630     197\n",
        "37834    197\n",
        "9668     196\n",
        "19729    196\n",
        "Name: user_id, dtype: int64"
       ]
      }
     ],
     "prompt_number": 24
    },
    {
     "cell_type": "code",
     "collapsed": false,
     "input": [],
     "language": "python",
     "metadata": {},
     "outputs": []
    }
   ],
   "metadata": {}
  }
 ]
}